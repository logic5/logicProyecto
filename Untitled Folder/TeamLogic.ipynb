{
 "cells": [
  {
   "cell_type": "code",
   "execution_count": 11,
   "metadata": {
    "collapsed": false
   },
   "outputs": [
    {
     "name": "stdout",
     "output_type": "stream",
     "text": [
      "Hello! We are Team Logic!\n",
      "HELLO WORLD!\n",
      "[[1, 2, 3], [1, 2, 3], [1, 2, 3], [1, 2, 3]]\n"
     ]
    }
   ],
   "source": [
    "print 'Hello! We are Team Logic!'\n",
    "for x in range(0, 1):\n",
    "    print 'HELLO WORLD!'\n",
    "interesting = matrix = [[1, 1, 1, 1],[2, 2, 2, 2],[3, 3, 3, 3]]\n",
    "\n",
    "arr = [[fun[s] for fun in interesting]for s in range(4)]\n",
    "print arr"
   ]
  },
  {
   "cell_type": "markdown",
   "metadata": {},
   "source": [
    "# WHO ARE WE?"
   ]
  },
  {
   "cell_type": "markdown",
   "metadata": {},
   "source": [
    "We are a small development team from Greenwood Village, Colorado.\n",
    "We are also students at Cherry Creek High School, and students in AP Computer Science,\n",
    "where a few of us met. \n",
    "We gathered as a team to work with this internship, and that is who we are."
   ]
  },
  {
   "cell_type": "markdown",
   "metadata": {},
   "source": [
    "# Week 1: 3/13/16-->3/20/16\n",
    "Here is what we did.\n",
    "We did:\n",
    " -this\n",
    " -this\n",
    " -this\n",
    "This was important for that reason.\n",
    "Here is what we added to our program:"
   ]
  },
  {
   "cell_type": "code",
   "execution_count": 14,
   "metadata": {
    "collapsed": false
   },
   "outputs": [
    {
     "name": "stdout",
     "output_type": "stream",
     "text": [
      "<--INSERT CODE HERE-->\n",
      "<--INSERT CODE HERE-->\n",
      "<--INSERT CODE HERE-->\n",
      "<--INSERT CODE HERE-->\n",
      "<--INSERT CODE HERE-->\n",
      "<--INSERT CODE HERE-->\n",
      "<--INSERT CODE HERE-->\n"
     ]
    }
   ],
   "source": [
    "integer = 7\n",
    "while(integer > 0):\n",
    "    print '<--INSERT CODE HERE-->'\n",
    "    integer = integer-1"
   ]
  },
  {
   "cell_type": "markdown",
   "metadata": {},
   "source": []
  }
 ],
 "metadata": {
  "kernelspec": {
   "display_name": "Python 2",
   "language": "python",
   "name": "python2"
  },
  "language_info": {
   "codemirror_mode": {
    "name": "ipython",
    "version": 2
   },
   "file_extension": ".py",
   "mimetype": "text/x-python",
   "name": "python",
   "nbconvert_exporter": "python",
   "pygments_lexer": "ipython2",
   "version": "2.7.11"
  }
 },
 "nbformat": 4,
 "nbformat_minor": 0
}

!ipython nbconvert <notebook TeamLogic>.ipynb --to html